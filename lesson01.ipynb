{
 "cells": [
  {
   "cell_type": "code",
   "execution_count": 12,
   "metadata": {},
   "outputs": [
    {
     "name": "stdout",
     "output_type": "stream",
     "text": [
      "75f99c6e5bf613675e743a9c3ab32009\n"
     ]
    }
   ],
   "source": [
    "import private\n",
    "print(private.secret.open_weather_key)"
   ]
  },
  {
   "cell_type": "code",
   "execution_count": 14,
   "metadata": {},
   "outputs": [
    {
     "data": {
      "text/plain": [
       "'https://api.openweathermap.org/data/2.5/forecast?q=Hualien,tw&APPID=75f99c6e5bf613675e743a9c3ab32009&lang=zh_tw&units=metric'"
      ]
     },
     "execution_count": 14,
     "metadata": {},
     "output_type": "execute_result"
    }
   ],
   "source": [
    "api_key = private.secret.open_weather_key\n",
    "url = f\"https://api.openweathermap.org/data/2.5/forecast?q=Hualien,tw&APPID=75f99c6e5bf613675e743a9c3ab32009&lang=zh_tw&units=metric\"\n",
    "url"
   ]
  },
  {
   "cell_type": "code",
   "execution_count": 15,
   "metadata": {},
   "outputs": [
    {
     "name": "stdout",
     "output_type": "stream",
     "text": [
      "下載成功\n",
      "{'id': 1674502, 'name': 'Hualien', 'coord': {'lat': 23.7817, 'lon': 121.3933}, 'country': 'TW', 'population': 0, 'timezone': 28800, 'sunrise': 1668377291, 'sunset': 1668416974}\n"
     ]
    }
   ],
   "source": [
    "import requests\n",
    "response = requests.get(url)\n",
    "if response.ok :\n",
    "    print(\"下載成功\")\n",
    "    allData = response.json()\n",
    "    city = allData['city']\n",
    "    print(city)"
   ]
  }
 ],
 "metadata": {
  "kernelspec": {
   "display_name": "Python 3.10.7 ('venv03')",
   "language": "python",
   "name": "python3"
  },
  "language_info": {
   "codemirror_mode": {
    "name": "ipython",
    "version": 3
   },
   "file_extension": ".py",
   "mimetype": "text/x-python",
   "name": "python",
   "nbconvert_exporter": "python",
   "pygments_lexer": "ipython3",
   "version": "3.10.7"
  },
  "orig_nbformat": 4,
  "vscode": {
   "interpreter": {
    "hash": "3b7fd7c387c588a82e736aea88c34163b60b7f4b92404744921e825c6f20caf3"
   }
  }
 },
 "nbformat": 4,
 "nbformat_minor": 2
}
